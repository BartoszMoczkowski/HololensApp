{
 "cells": [
  {
   "cell_type": "code",
   "execution_count": 6,
   "metadata": {},
   "outputs": [],
   "source": [
    "path = 'Resources\\\\Recipie'\n",
    "recipie_name = \"\""
   ]
  },
  {
   "cell_type": "code",
   "execution_count": 1,
   "metadata": {},
   "outputs": [],
   "source": [
    "recipie_steps_meat = \"Zagotować 500ml wody.\\\n",
    "Posolić kaszę kuskus szczyptą soli.\\\n",
    "Zalać kaszę kuskus wrzątkiem, przykryć i odstawić.\\\n",
    "Opłukać kurczaka.\\\n",
    "Pokroić kurczaka w kostkę.\\\n",
    "Przyprawić kurczaka do smaku.\\\n",
    "Wlać oliwę na patelnię i podsmażyć kurczaka.\\\n",
    "Namoczyć rodzynki w gorącej wodzie.\\\n",
    "Przesypać kaszę kuskus do większej miski.\\\n",
    "Pokroić rukolę.\\\n",
    "Dodać do kaszy kurczaka oraz rukolę.\\\n",
    "Odcedzić rodzynki i wsypać do miski.\\\n",
    "Pokroić ser feta w kostkę.\\\n",
    "Dodać ser do miski.\\\n",
    "Dodać oliwę i wymieszać.\""
   ]
  },
  {
   "cell_type": "code",
   "execution_count": 4,
   "metadata": {},
   "outputs": [],
   "source": [
    "recipie_steps_vege = \"Zagotować 500ml wody.\\\n",
    "Posolić kaszę kuskus szczyptą soli.\\\n",
    "Zalać kaszę kuskus wrzątkiem, przykryć i odstawić.\\\n",
    "Odcedzić tofu.\\\n",
    "Pokroić tofu w kostę.\\\n",
    "Przyprawić tofu do smaku.\\\n",
    "Wlać oliwę na patelnię i podsmażyć tofu.\\\n",
    "Namoczyć rodzynki w gorącej wodzie.\\\n",
    "Przesypać kaszę kuskus do większej miski.\\\n",
    "Pokroić rukolę.\\\n",
    "Dodać do kaszy tofu oraz rukolę.\\\n",
    "Odcedzić rodzynki i wsypać do miski.\\\n",
    "Pokroić ser feta w kostkę.\\\n",
    "Dodać ser do miski.\\\n",
    "Dodać oliwę i wymieszać.\\\n",
    "Dodać oliwę i wymieszać.\""
   ]
  },
  {
   "cell_type": "code",
   "execution_count": 2,
   "metadata": {},
   "outputs": [],
   "source": [
    "import os"
   ]
  },
  {
   "cell_type": "code",
   "execution_count": 16,
   "metadata": {},
   "outputs": [
    {
     "name": "stdout",
     "output_type": "stream",
     "text": [
      "Zagotować 500ml wody\n",
      "Posolić kaszę kuskus szczyptą soli\n",
      "Zalać kaszę kuskus wrzątkiem, przykryć i odstawić\n",
      "Odcedzić tofu\n",
      "Pokroić tofu w kostę\n",
      "Przyprawić tofu do smaku\n",
      "Wlać oliwę na patelnię i podsmażyć tofu\n",
      "Namoczyć rodzynki w gorącej wodzie\n",
      "Przesypać kaszę kuskus do większej miski\n",
      "Pokroić rukolę\n",
      "Dodać do kaszy tofu oraz rukolę\n",
      "Odcedzić rodzynki i wsypać do miski\n",
      "Pokroić ser feta w kostkę\n",
      "Dodać ser do miski\n",
      "Dodać oliwę i wymieszać\n",
      "Dodać oliwę i wymieszać\n",
      "\n"
     ]
    }
   ],
   "source": [
    "try:\n",
    "    os.mkdir(f\"{path}_meat\")\n",
    "except:\n",
    "    pass\n",
    "for i,text in enumerate(recipie_steps_vege.split(\".\")):\n",
    "    try: \n",
    "        os.mkdir(f\"{path}_meat\\\\step_{i}\")\n",
    "    except:\n",
    "        pass\n",
    "    print(text)\n",
    "    with open(f\"{path}_meat\\\\step_{i}\\\\text.txt\",\"w\",encoding=\"utf-8\") as file:\n",
    "        file.write(text)\n",
    "\n",
    "    "
   ]
  },
  {
   "cell_type": "code",
   "execution_count": 3,
   "metadata": {},
   "outputs": [
    {
     "name": "stdout",
     "output_type": "stream",
     "text": [
      "step_0\n",
      "step_1\n",
      "step_10\n",
      "step_11\n",
      "step_12\n",
      "step_13\n",
      "step_14\n",
      "step_15\n",
      "step_2\n",
      "step_3\n",
      "step_4\n",
      "step_5\n",
      "step_6\n",
      "step_7\n",
      "step_8\n",
      "step_9\n"
     ]
    }
   ],
   "source": [
    "for dir in os.listdir(\"Resources//Recipie_meat\"):\n",
    "    if dir.find(\"meta\") != -1:\n",
    "        continue\n",
    "    for file in os.listdir(f\"Resources//Recipie_meat//{dir}\"):\n",
    "        if file.find(\".MOV\") != -1:\n",
    "            os.remove(f\"Resources//Recipie_meat//{dir}//{file}\")\n",
    "    print(dir)"
   ]
  },
  {
   "cell_type": "code",
   "execution_count": 24,
   "metadata": {},
   "outputs": [
    {
     "name": "stdout",
     "output_type": "stream",
     "text": [
      "step_0\n",
      "step_1\n",
      "step_10\n",
      "step_11\n",
      "step_12\n",
      "step_13\n",
      "step_14\n",
      "step_15\n",
      "step_16\n",
      "step_2\n",
      "step_3\n",
      "step_4\n",
      "step_5\n",
      "step_6\n",
      "step_7\n",
      "step_8\n",
      "step_9\n"
     ]
    }
   ],
   "source": [
    "for dir in os.listdir(\"Resources//Recipie_meat\"):\n",
    "    for file in os.listdir(f\"Resources//Recipie_meat//{dir}\"):\n",
    "        if file.find(\".jpeg\") != -1:\n",
    "            os.remove(f\"Resources//Recipie_meat//{dir}//{file}\")\n",
    "    print(dir)"
   ]
  },
  {
   "cell_type": "code",
   "execution_count": 27,
   "metadata": {},
   "outputs": [
    {
     "name": "stdout",
     "output_type": "stream",
     "text": [
      "0\n",
      "1-1.jpeg\n",
      "0\n",
      "1-2.jpeg\n",
      "9\n",
      "10-1.jpeg\n",
      "9\n",
      "10-2.jpeg\n",
      "10\n",
      "11-1.jpeg\n",
      "10\n",
      "11-2.jpeg\n",
      "11\n",
      "12-1.jpeg\n",
      "11\n",
      "12-2.jpeg\n",
      "12\n",
      "13-1.jpeg\n",
      "12\n",
      "13-2.jpeg\n",
      "13\n",
      "14-1.jpeg\n",
      "13\n",
      "14-2.jpeg\n",
      "14\n",
      "15-1.jpeg\n",
      "14\n",
      "15-2.jpeg\n",
      "1\n",
      "2-2.jpeg\n",
      "2\n",
      "3-1.jpeg\n",
      "2\n",
      "3-2.jpeg\n",
      "2\n",
      "3-3.jpeg\n",
      "3\n",
      "4-1.jpeg\n",
      "4\n",
      "5-1.jpeg\n",
      "4\n",
      "5-2.jpeg\n",
      "5\n",
      "6-1.jpeg\n",
      "5\n",
      "6-2.jpeg\n",
      "6\n",
      "7-1.jpeg\n",
      "6\n",
      "7-2.jpeg\n",
      "7\n",
      "8-1.jpeg\n",
      "7\n",
      "8-2.jpeg\n",
      "8\n",
      "9-1.jpeg\n",
      "8\n",
      "9-2.jpeg\n"
     ]
    }
   ],
   "source": [
    "for file in os.listdir(\"KuchniaAR//photos_jpg\"):\n",
    "\n",
    "    target = int(file.split(\"-\")[0]) -1\n",
    "    print(target)\n",
    "\n",
    "    os.rename(f\"KuchniaAR//photos_jpg//{file}\",f\"Resources//Recipie_meat//step_{target}//{file}\")\n",
    "    print(file)"
   ]
  },
  {
   "cell_type": "code",
   "execution_count": 8,
   "metadata": {},
   "outputs": [
    {
     "name": "stdout",
     "output_type": "stream",
     "text": [
      "4\n",
      "5.MOV\n",
      "5\n",
      "6.MOV\n",
      "7\n",
      "8.MOV\n",
      "8\n",
      "9.MOV\n"
     ]
    },
    {
     "ename": "ValueError",
     "evalue": "invalid literal for int() with base 10: 'j'",
     "output_type": "error",
     "traceback": [
      "\u001b[1;31m---------------------------------------------------------------------------\u001b[0m",
      "\u001b[1;31mValueError\u001b[0m                                Traceback (most recent call last)",
      "Cell \u001b[1;32mIn[8], line 7\u001b[0m\n\u001b[0;32m      5\u001b[0m     \u001b[38;5;28;01mcontinue\u001b[39;00m\n\u001b[0;32m      6\u001b[0m name \u001b[38;5;241m=\u001b[39m file\u001b[38;5;241m.\u001b[39msplit(\u001b[38;5;124m\"\u001b[39m\u001b[38;5;124m.\u001b[39m\u001b[38;5;124m\"\u001b[39m)[\u001b[38;5;241m0\u001b[39m]\n\u001b[1;32m----> 7\u001b[0m target \u001b[38;5;241m=\u001b[39m \u001b[38;5;28;43mint\u001b[39;49m\u001b[43m(\u001b[49m\u001b[43mname\u001b[49m\u001b[38;5;241;43m.\u001b[39;49m\u001b[43msplit\u001b[49m\u001b[43m(\u001b[49m\u001b[38;5;124;43m\"\u001b[39;49m\u001b[38;5;124;43m-\u001b[39;49m\u001b[38;5;124;43m\"\u001b[39;49m\u001b[43m)\u001b[49m\u001b[43m[\u001b[49m\u001b[38;5;241;43m0\u001b[39;49m\u001b[43m]\u001b[49m\u001b[43m)\u001b[49m \u001b[38;5;241m-\u001b[39m\u001b[38;5;241m1\u001b[39m\n\u001b[0;32m      8\u001b[0m \u001b[38;5;28mprint\u001b[39m(target)\n\u001b[0;32m     10\u001b[0m os\u001b[38;5;241m.\u001b[39mrename(\u001b[38;5;124mf\u001b[39m\u001b[38;5;124m\"\u001b[39m\u001b[38;5;124mKuchniaAR//video//\u001b[39m\u001b[38;5;132;01m{\u001b[39;00mfile\u001b[38;5;132;01m}\u001b[39;00m\u001b[38;5;124m\"\u001b[39m,\u001b[38;5;124mf\u001b[39m\u001b[38;5;124m\"\u001b[39m\u001b[38;5;124mResources//Recipie_meat//step_\u001b[39m\u001b[38;5;132;01m{\u001b[39;00mtarget\u001b[38;5;132;01m}\u001b[39;00m\u001b[38;5;124m//\u001b[39m\u001b[38;5;132;01m{\u001b[39;00mfile\u001b[38;5;132;01m}\u001b[39;00m\u001b[38;5;124m\"\u001b[39m)\n",
      "\u001b[1;31mValueError\u001b[0m: invalid literal for int() with base 10: 'j'"
     ]
    }
   ],
   "source": [
    "for file in os.listdir(\"KuchniaAR//video\"):\n",
    "\n",
    "\n",
    "    if file.split(\".\")[-1] == \"meta\":\n",
    "        continue\n",
    "    name = file.split(\".\")[0]\n",
    "    target = int(name.split(\"-\")[0]) -1\n",
    "    print(target)\n",
    "\n",
    "    os.rename(f\"KuchniaAR//video//{file}\",f\"Resources//Recipie_meat//step_{target}//{file}\")\n",
    "    print(file)"
   ]
  }
 ],
 "metadata": {
  "kernelspec": {
   "display_name": "Python 3",
   "language": "python",
   "name": "python3"
  },
  "language_info": {
   "codemirror_mode": {
    "name": "ipython",
    "version": 3
   },
   "file_extension": ".py",
   "mimetype": "text/x-python",
   "name": "python",
   "nbconvert_exporter": "python",
   "pygments_lexer": "ipython3",
   "version": "3.12.4"
  }
 },
 "nbformat": 4,
 "nbformat_minor": 2
}
